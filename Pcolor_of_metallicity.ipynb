{
 "cells": [
  {
   "cell_type": "code",
   "execution_count": 11,
   "metadata": {},
   "outputs": [
    {
     "name": "stdout",
     "output_type": "stream",
     "text": [
      "[1.5 1.6 1.7 1.8 1.9 2.  2.1]\n"
     ]
    }
   ],
   "source": [
    "print(np.linspace(1.5, 2.1, 7))\n"
   ]
  },
  {
   "cell_type": "code",
   "execution_count": 2,
   "metadata": {},
   "outputs": [
    {
     "name": "stderr",
     "output_type": "stream",
     "text": [
      "/usr/lib64/python3.5/site-packages/h5py/__init__.py:34: FutureWarning: Conversion of the second argument of issubdtype from `float` to `np.floating` is deprecated. In future, it will be treated as `np.float64 == np.dtype(float).type`.\n",
      "  from ._conv import register_converters as _register_converters\n"
     ]
    },
    {
     "name": "stdout",
     "output_type": "stream",
     "text": [
      "/home/mdemyanenko/CLOUDY/model_metallicity_1.5_0.39999999999999997 model read\n",
      "/home/mdemyanenko/CLOUDY/model_metallicity_1.5_0.3 model read\n",
      "/home/mdemyanenko/CLOUDY/model_metallicity_1.5_0.39999999999999997 model read\n",
      "/home/mdemyanenko/CLOUDY/model_metallicity_1.5_0.5 model read\n",
      "/home/mdemyanenko/CLOUDY/model_metallicity_1.5_0.6 model read\n",
      "/home/mdemyanenko/CLOUDY/model_metallicity_1.5_0.7999999999999999 model read\n",
      "/home/mdemyanenko/CLOUDY/model_metallicity_1.5_0.7 model read\n",
      "/home/mdemyanenko/CLOUDY/model_metallicity_1.5_0.7999999999999999 model read\n",
      "/home/mdemyanenko/CLOUDY/model_metallicity_1.5_0.8999999999999999 model read\n",
      "/home/mdemyanenko/CLOUDY/model_metallicity_1.5_1.0 model read\n"
     ]
    },
    {
     "ename": "KeyboardInterrupt",
     "evalue": "",
     "output_type": "error",
     "traceback": [
      "\u001b[0;31m---------------------------------------------------------------------------\u001b[0m",
      "\u001b[0;31mKeyboardInterrupt\u001b[0m                         Traceback (most recent call last)",
      "\u001b[0;32m<ipython-input-2-7b86df165998>\u001b[0m in \u001b[0;36m<module>\u001b[0;34m()\u001b[0m\n\u001b[1;32m    109\u001b[0m \u001b[0;31m#print(modlist)\u001b[0m\u001b[0;34m\u001b[0m\u001b[0;34m\u001b[0m\u001b[0m\n\u001b[1;32m    110\u001b[0m         \u001b[0mn_proc\u001b[0m \u001b[0;34m=\u001b[0m \u001b[0;36m32\u001b[0m\u001b[0;34m\u001b[0m\u001b[0m\n\u001b[0;32m--> 111\u001b[0;31m         \u001b[0mpc\u001b[0m\u001b[0;34m.\u001b[0m\u001b[0mrun_cloudy\u001b[0m\u001b[0;34m(\u001b[0m\u001b[0mdir_\u001b[0m \u001b[0;34m=\u001b[0m \u001b[0mdir_\u001b[0m\u001b[0;34m,\u001b[0m \u001b[0mn_proc\u001b[0m \u001b[0;34m=\u001b[0m \u001b[0mn_proc\u001b[0m\u001b[0;34m,\u001b[0m \u001b[0mmodel_name\u001b[0m \u001b[0;34m=\u001b[0m \u001b[0mmodel_name\u001b[0m\u001b[0;34m,\u001b[0m \u001b[0muse_make\u001b[0m \u001b[0;34m=\u001b[0m \u001b[0;32mTrue\u001b[0m\u001b[0;34m)\u001b[0m\u001b[0;34m\u001b[0m\u001b[0m\n\u001b[0m\u001b[1;32m    112\u001b[0m         Mss.extend(pc.load_models('{0}{1}_{2}_{3}'.format(dir_, model_name, dens, met), \n\u001b[1;32m    113\u001b[0m                                   verbose = True, read_grains = False))\n",
      "\u001b[0;32m/home/mdemyanenko/.local/lib64/python3.5/site-packages/pyCloudy/c1d/cloudy_model.py\u001b[0m in \u001b[0;36mrun_cloudy\u001b[0;34m(dir_, n_proc, use_make, model_name, precom, cloudy_version)\u001b[0m\n\u001b[1;32m   2632\u001b[0m     \u001b[0mpc\u001b[0m\u001b[0;34m.\u001b[0m\u001b[0mlog_\u001b[0m\u001b[0;34m.\u001b[0m\u001b[0mmessage\u001b[0m\u001b[0;34m(\u001b[0m\u001b[0;34m'running: {0}'\u001b[0m\u001b[0;34m.\u001b[0m\u001b[0mformat\u001b[0m\u001b[0;34m(\u001b[0m\u001b[0mto_run\u001b[0m\u001b[0;34m)\u001b[0m\u001b[0;34m,\u001b[0m \u001b[0mcalling\u001b[0m \u001b[0;34m=\u001b[0m \u001b[0;34m'run_cloudy'\u001b[0m\u001b[0;34m)\u001b[0m\u001b[0;34m\u001b[0m\u001b[0m\n\u001b[1;32m   2633\u001b[0m     \u001b[0mproc\u001b[0m \u001b[0;34m=\u001b[0m \u001b[0msubprocess\u001b[0m\u001b[0;34m.\u001b[0m\u001b[0mPopen\u001b[0m\u001b[0;34m(\u001b[0m\u001b[0mto_run\u001b[0m\u001b[0;34m,\u001b[0m \u001b[0mshell\u001b[0m\u001b[0;34m=\u001b[0m\u001b[0;32mTrue\u001b[0m\u001b[0;34m,\u001b[0m \u001b[0mstdout\u001b[0m\u001b[0;34m=\u001b[0m\u001b[0msubprocess\u001b[0m\u001b[0;34m.\u001b[0m\u001b[0mPIPE\u001b[0m\u001b[0;34m,\u001b[0m \u001b[0mstdin\u001b[0m\u001b[0;34m=\u001b[0m\u001b[0;32mNone\u001b[0m\u001b[0;34m,\u001b[0m \u001b[0mcwd\u001b[0m\u001b[0;34m=\u001b[0m\u001b[0mstr\u001b[0m\u001b[0;34m(\u001b[0m\u001b[0mdir_\u001b[0m\u001b[0;34m)\u001b[0m\u001b[0;34m)\u001b[0m\u001b[0;34m\u001b[0m\u001b[0m\n\u001b[0;32m-> 2634\u001b[0;31m     \u001b[0mproc\u001b[0m\u001b[0;34m.\u001b[0m\u001b[0mcommunicate\u001b[0m\u001b[0;34m(\u001b[0m\u001b[0;34m)\u001b[0m\u001b[0;34m\u001b[0m\u001b[0m\n\u001b[0m\u001b[1;32m   2635\u001b[0m     \u001b[0mpc\u001b[0m\u001b[0;34m.\u001b[0m\u001b[0mlog_\u001b[0m\u001b[0;34m.\u001b[0m\u001b[0mmessage\u001b[0m\u001b[0;34m(\u001b[0m\u001b[0;34m'ending: {0}'\u001b[0m\u001b[0;34m.\u001b[0m\u001b[0mformat\u001b[0m\u001b[0;34m(\u001b[0m\u001b[0mto_run\u001b[0m\u001b[0;34m)\u001b[0m\u001b[0;34m,\u001b[0m \u001b[0mcalling\u001b[0m \u001b[0;34m=\u001b[0m \u001b[0;34m'run_cloudy'\u001b[0m\u001b[0;34m)\u001b[0m\u001b[0;34m\u001b[0m\u001b[0m\n\u001b[1;32m   2636\u001b[0m \u001b[0;34m\u001b[0m\u001b[0m\n",
      "\u001b[0;32m/usr/lib64/python3.5/subprocess.py\u001b[0m in \u001b[0;36mcommunicate\u001b[0;34m(self, input, timeout)\u001b[0m\n\u001b[1;32m    788\u001b[0m                 \u001b[0mself\u001b[0m\u001b[0;34m.\u001b[0m\u001b[0m_stdin_write\u001b[0m\u001b[0;34m(\u001b[0m\u001b[0minput\u001b[0m\u001b[0;34m)\u001b[0m\u001b[0;34m\u001b[0m\u001b[0m\n\u001b[1;32m    789\u001b[0m             \u001b[0;32melif\u001b[0m \u001b[0mself\u001b[0m\u001b[0;34m.\u001b[0m\u001b[0mstdout\u001b[0m\u001b[0;34m:\u001b[0m\u001b[0;34m\u001b[0m\u001b[0m\n\u001b[0;32m--> 790\u001b[0;31m                 \u001b[0mstdout\u001b[0m \u001b[0;34m=\u001b[0m \u001b[0mself\u001b[0m\u001b[0;34m.\u001b[0m\u001b[0mstdout\u001b[0m\u001b[0;34m.\u001b[0m\u001b[0mread\u001b[0m\u001b[0;34m(\u001b[0m\u001b[0;34m)\u001b[0m\u001b[0;34m\u001b[0m\u001b[0m\n\u001b[0m\u001b[1;32m    791\u001b[0m                 \u001b[0mself\u001b[0m\u001b[0;34m.\u001b[0m\u001b[0mstdout\u001b[0m\u001b[0;34m.\u001b[0m\u001b[0mclose\u001b[0m\u001b[0;34m(\u001b[0m\u001b[0;34m)\u001b[0m\u001b[0;34m\u001b[0m\u001b[0m\n\u001b[1;32m    792\u001b[0m             \u001b[0;32melif\u001b[0m \u001b[0mself\u001b[0m\u001b[0;34m.\u001b[0m\u001b[0mstderr\u001b[0m\u001b[0;34m:\u001b[0m\u001b[0;34m\u001b[0m\u001b[0m\n",
      "\u001b[0;31mKeyboardInterrupt\u001b[0m: "
     ]
    }
   ],
   "source": [
    "%matplotlib inline\n",
    "import numpy as np\n",
    "import matplotlib.pyplot as plt\n",
    "import os\n",
    "import astropy\n",
    "import scipy\n",
    "import pyCloudy as pc\n",
    "from astropy.io import fits\n",
    "from astropy.wcs import WCS\n",
    "from astropy import units as u\n",
    "from scipy.interpolate import interp1d\n",
    "from pyCloudy.utils.astro import conv_arc\n",
    "from mpl_toolkits.axes_grid1 import make_axes_locatable\n",
    "from mpl_toolkits.mplot3d import Axes3D\n",
    "from matplotlib import cm\n",
    "from matplotlib.ticker import LinearLocator, FormatStrFormatter\n",
    "import matplotlib\n",
    "import glob\n",
    "from matplotlib.backends.backend_pgf import FigureCanvasPgf\n",
    "matplotlib.backend_bases.register_backend('pdf', FigureCanvasPgf)\n",
    "\n",
    "pgf_with_latex = {\n",
    "    \"pgf.texsystem\": \"xelatex\",         # use Xelatex which is TTF font aware\n",
    "    \"text.usetex\": True,                # use LaTeX to write all text\n",
    "    \"font.family\": \"serif\",             # use serif rather than sans-serif\n",
    "    \"font.serif\": \"Ubuntu\",             # use 'Ubuntu' as the standard font\n",
    "    \"font.sans-serif\": [],\n",
    "    \"font.monospace\": \"Ubuntu Mono\",    # use Ubuntu mono if we have mono\n",
    "    \"axes.labelsize\": 10,               # LaTeX default is 10pt font.\n",
    "    \"font.size\": 10,\n",
    "    \"legend.fontsize\": 8,               # Make the legend/label fonts a little smaller\n",
    "    \"xtick.labelsize\": 15,\n",
    "    \"ytick.labelsize\": 15,\n",
    "    \"pgf.rcfonts\": False,               # Use pgf.preamble, ignore standard Matplotlib RC\n",
    "    \"text.latex.unicode\": True,\n",
    "    \"pgf.preamble\": [\n",
    "        r'\\usepackage{fontspec}',\n",
    "        r'\\setmainfont{Ubuntu}',\n",
    "        r'\\setmonofont{Ubuntu Mono}',\n",
    "        r'\\usepackage{unicode-math}'\n",
    "        r'\\setmathfont{Ubuntu}',\n",
    "        r'\\usepackage{cmbright}',\n",
    "        r'\\usepackage{newtxtext,newtxmath}',\n",
    "        r'\\usepackage{wasysym}'\n",
    "    ]\n",
    "}\n",
    "\n",
    "matplotlib.rcParams.update(pgf_with_latex)\n",
    "\n",
    "dist = 1.65\n",
    "home_dir = os.environ['HOME'] + '/'\n",
    "pc.config.cloudy_exe = home_dir + 'c17.02/source/cloudy.exe'\n",
    "\n",
    "\n",
    "def make_model(dir_, model_name, dens, met):\n",
    "    full_model_name = '{0}_{1}_{2}'.format(model_name, dens, met)\n",
    "#    model_name = 'model_4'\n",
    "#    full_model_name = '{0}{1}'.format(dir__, model_name)\n",
    "#    dens = 1.653 #log cm-3 значение 2 изначально\n",
    "#dl = 1.2\n",
    "    Teff = 30200. #K\n",
    "    lumi = 69000.\n",
    "    r_min = 6.05e16 #cm значение 6e11 изначально\n",
    "#r_max = 5.270e18\n",
    "    dist = 1.65\n",
    "    options = ('no molecules', 'COSMIC RAY BACKGROUND',)\n",
    "    emis_tab = ['H  1  4861.33A', #h beta\n",
    "            'H  1  6562.81A', #h alpha\n",
    "            'N  2  6583.45A', #\n",
    "            'S  2  6716.44A', #\n",
    "            'S  2  6730.82A'] #\n",
    "#    abund = {'He' : -0.92, 'C' : 6.85 - 12, 'N' : -4.0, 'O' : -3.40, 'Ne' : -4.00, \n",
    "#         'S' : -5.35, 'Ar' : -5.80, 'Fe' : -7.4, 'Cl' : -7.00}\n",
    "    c_input = pc.CloudyInput('{0}{1}'.format(dir_, full_model_name))\n",
    "    c_input.set_BB(Teff = Teff, lumi_unit = 'luminosity linear solar', lumi_value = lumi)\n",
    "    c_input.set_cste_density(dens)\n",
    "    c_input.set_other('abundances \"solar_GASS10.abn\" no grains')\n",
    "    c_input.set_other('metals ' + met)#0.57')\n",
    "#    c_input.set_other('hden 9, power =-2') #в общем чтобы работала не constant плотность, \n",
    "#надо разобраться с тем что файл с дефолтно заданным законом dense_fabden.cpp не запускается \n",
    "#c_input.import_file('dense_fabden.cpp')\n",
    "    c_input.set_radius(r_in=np.log10(r_min)) #, r_out=np.log10(r_max))\n",
    "#    c_input.set_abund(ab_dict = abund, nograins = True)\n",
    "    c_input.set_other(options)\n",
    "    c_input.set_iterate() \n",
    "    c_input.set_sphere() \n",
    "    c_input.set_emis_tab(emis_tab)\n",
    "    c_input.set_distance(dist=dist, unit='kpc', linear=True)\n",
    "    c_input.print_input(to_file = True, verbose = False)\n",
    "   \n",
    "    \n",
    "#    arcsec = lambda cm: conv_arc(dist=dist, dist_proj=cm)\n",
    "dir_ = '/home/mdemyanenko/CLOUDY/'\n",
    "pc.print_make_file(dir_ = dir_)\n",
    "pc.log_.level = 2\n",
    "model_name = 'model_metallicity'\n",
    "tab_dens = np.linspace(1.5, 2.2, 8) #[1.5, 1.65]#, 1.7, 1.8, 1.9, 2.0, 2.1]\n",
    "tab_met = []\n",
    "#['0.3', '0.4']#, '0.57','0.65','0.75', '0.9', '1.2']#['0.4','0.425', '0.45', '0.475', '0.5', '0.525', '0.55', '0.575', '0.6'] #, '0.65', '0.7', '0.75', '0.8', '0.85', '0.9', '1.0', '1.05', '1.1', '1.15', '1.2', '1.25']\n",
    "for el in np.linspace(0.3, 1, 8):\n",
    "    tab_met.append(str(el))\n",
    "\n",
    "#modlist = []\n",
    "Mss =[]\n",
    "for dens in tab_dens:\n",
    "    for met in tab_met:\n",
    "        make_model(dir_, model_name, dens, met)\n",
    "#modlist = glob.glob(dir_ + model_name + '*.out')\n",
    "#print(modlist)        \n",
    "        n_proc = 32\n",
    "        pc.run_cloudy(dir_ = dir_, n_proc = n_proc, model_name = model_name, use_make = True)\n",
    "        Mss.extend(pc.load_models('{0}{1}_{2}_{3}'.format(dir_, model_name, dens, met), \n",
    "                                  verbose = True, read_grains = False))\n",
    "\n",
    "print(Mss)\n",
    "#for model in Ms:\n",
    "#    if '{0}{1}_{2}_{3}'.format(model_name, )\n",
    "\n",
    "#cloudy_list = []\n",
    "#for i in modlist:\n",
    "#    if outfile[-4::] == '.out':\n",
    "#        model_name = outfile[0:-4]\n",
    "#    else:\n",
    "#        model_name = outfile\n",
    "#    cloudy_list.append(pc.CloudyModel(model_name))\n",
    "#print(cloudy_list)"
   ]
  },
  {
   "cell_type": "code",
   "execution_count": 3,
   "metadata": {},
   "outputs": [],
   "source": [
    "%matplotlib inline\n",
    "import numpy as np\n",
    "import matplotlib.pyplot as plt\n",
    "import os\n",
    "import astropy\n",
    "import scipy\n",
    "import pyCloudy as pc\n",
    "from astropy.io import fits\n",
    "from astropy.wcs import WCS\n",
    "from astropy import units as u\n",
    "from scipy.interpolate import interp1d\n",
    "from pyCloudy.utils.astro import conv_arc\n",
    "from mpl_toolkits.axes_grid1 import make_axes_locatable\n",
    "from mpl_toolkits.mplot3d import Axes3D\n",
    "from matplotlib import cm\n",
    "from matplotlib.ticker import LinearLocator, FormatStrFormatter\n",
    "import matplotlib\n",
    "import glob\n",
    "from matplotlib.backends.backend_pgf import FigureCanvasPgf\n",
    "matplotlib.backend_bases.register_backend('pdf', FigureCanvasPgf)\n",
    "\n",
    "pgf_with_latex = {\n",
    "    \"pgf.texsystem\": \"xelatex\",         # use Xelatex which is TTF font aware\n",
    "    \"text.usetex\": True,                # use LaTeX to write all text\n",
    "    \"font.family\": \"serif\",             # use serif rather than sans-serif\n",
    "    \"font.serif\": \"Ubuntu\",             # use 'Ubuntu' as the standard font\n",
    "    \"font.sans-serif\": [],\n",
    "    \"font.monospace\": \"Ubuntu Mono\",    # use Ubuntu mono if we have mono\n",
    "    \"axes.labelsize\": 10,               # LaTeX default is 10pt font.\n",
    "    \"font.size\": 10,\n",
    "    \"legend.fontsize\": 8,               # Make the legend/label fonts a little smaller\n",
    "    \"xtick.labelsize\": 15,\n",
    "    \"ytick.labelsize\": 15,\n",
    "    \"pgf.rcfonts\": False,               # Use pgf.preamble, ignore standard Matplotlib RC\n",
    "    \"text.latex.unicode\": True,\n",
    "    \"pgf.preamble\": [\n",
    "        r'\\usepackage{fontspec}',\n",
    "        r'\\setmainfont{Ubuntu}',\n",
    "        r'\\setmonofont{Ubuntu Mono}',\n",
    "        r'\\usepackage{unicode-math}'\n",
    "        r'\\setmathfont{Ubuntu}',\n",
    "        r'\\usepackage{cmbright}',\n",
    "        r'\\usepackage{newtxtext,newtxmath}',\n",
    "        r'\\usepackage{wasysym}'\n",
    "    ]\n",
    "}\n",
    "\n",
    "matplotlib.rcParams.update(pgf_with_latex)\n",
    "\n",
    "dist = 1.65\n",
    "home_dir = os.environ['HOME'] + '/'\n",
    "pc.config.cloudy_exe = home_dir + 'c17.02/source/cloudy.exe'\n",
    "\n",
    "\n"
   ]
  },
  {
   "cell_type": "code",
   "execution_count": null,
   "metadata": {},
   "outputs": [],
   "source": [
    "def make_model(dir_, model_name, dens, met):\n",
    "    full_model_name = '{0}_{1}_{2}'.format(model_name, dens, met)\n",
    "    Teff = 30200. #K\n",
    "    lumi = 69000.\n",
    "    r_min = 6.05e16 #cm значение 6e11 изначально\n",
    "    dist = 1.65\n",
    "    options = ('no molecules', 'COSMIC RAY BACKGROUND',)\n",
    "    emis_tab = ['H  1  4861.33A', #h beta\n",
    "            'H  1  6562.81A', #h alpha\n",
    "            'N  2  6583.45A', #\n",
    "            'S  2  6716.44A', #\n",
    "            'S  2  6730.82A'] #\n",
    "    c_input = pc.CloudyInput('{0}{1}'.format(dir_, full_model_name))\n",
    "    c_input.set_BB(Teff = Teff, lumi_unit = 'luminosity linear solar', lumi_value = lumi)\n",
    "    c_input.set_cste_density(dens)\n",
    "    c_input.set_other('abundances \"solar_GASS10.abn\" no grains')\n",
    "    c_input.set_other('metals ' + met)\n",
    "    c_input.set_radius(r_in=np.log10(r_min))\n",
    "    c_input.set_other(options)\n",
    "    c_input.set_iterate() \n",
    "    c_input.set_sphere() \n",
    "    c_input.set_emis_tab(emis_tab)\n",
    "    c_input.set_distance(dist=dist, unit='kpc', linear=True)\n",
    "    c_input.print_input(to_file = True, verbose = False)"
   ]
  },
  {
   "cell_type": "code",
   "execution_count": 4,
   "metadata": {},
   "outputs": [],
   "source": [
    "def load_model_metallicity(min_dens, max_dens, count_dens, min_met, max_met, count_met, flag):\n",
    "\n",
    "    dir_ = '/home/mdemyanenko/CLOUDY/'\n",
    "    pc.print_make_file(dir_ = dir_)\n",
    "    pc.log_.level = 2\n",
    "    model_name = 'model_metallicity'\n",
    "    tab_dens = np.linspace(min_dens, max_dens, count_dens) \n",
    "    tab_met = []\n",
    "\n",
    "\n",
    "    for el in np.linspace(min_met, max_met, count_met):\n",
    "        tab_met.append(str(el))\n",
    "\n",
    "    if flag == False:\n",
    "        \n",
    "        Mss =[] # матрица с output моделями \n",
    "        for dens in tab_dens:\n",
    "            for met in tab_met:\n",
    "                n_proc = 32\n",
    "                Mss.extend(pc.load_models('{0}{1}_{2}_{3}'.format(dir_, model_name, dens, met), \n",
    "                                  verbose = True, read_grains = False))\n",
    "    elif flag == True:\n",
    "        \n",
    "        Mss =[]\n",
    "        for dens in tab_dens:\n",
    "            for met in tab_met:\n",
    "                make_model(dir_, model_name, dens, met)\n",
    "                n_proc = 32\n",
    "                pc.run_cloudy(dir_ = dir_, n_proc = n_proc, model_name = model_name, use_make = True)\n",
    "                Mss.extend(pc.load_models('{0}{1}_{2}_{3}'.format(dir_, model_name, dens, met), \n",
    "                                  verbose = True, read_grains = False))\n",
    "            \n",
    "            \n",
    "    return Mss"
   ]
  },
  {
   "cell_type": "code",
   "execution_count": 5,
   "metadata": {},
   "outputs": [],
   "source": [
    "arcsec = lambda cm: conv_arc(dist=dist, dist_proj=cm)\n",
    "\n",
    "\n",
    "def flux_on_z(M_sphere, line):\n",
    "    \n",
    "    a = ((M_sphere.get_emis(line) * M_sphere.cub_coord.delta_x).sum(0))\n",
    "    b = a / (4 * np.pi)\n",
    "    \n",
    "    return b * (np.pi/(180*3600))**2\n",
    "\n",
    "\n",
    "def r_observe(filename, ra0, dec0): #arcsec\n",
    "\n",
    "    hdulist = fits.open(filename) \n",
    "    f_o = hdulist[0].data\n",
    "    wcs_hst = WCS(hdulist[0].header) \n",
    "    X, Y = np.meshgrid(np.arange(0, f_o.shape[0]), np.arange(0, f_o.shape[1]))\n",
    "    ra, dec = wcs_hst.wcs_pix2world(X, Y, 0)\n",
    "    r = np.sqrt(((ra-ra0)*np.cos(dec*np.pi/180))**2 + (dec-dec0)**2)\n",
    "    \n",
    "    return r*3600\n",
    "\n",
    "\n",
    "def flux_observe(filename):\n",
    "    \n",
    "    hdulist = fits.open(filename)\n",
    "    f_o = hdulist[0].data\n",
    "    \n",
    "    return f_o\n",
    "\n",
    "\n",
    "def flux_err_observe(filename_err):\n",
    "    \n",
    "    hdulist_err = fits.open(filename_err)\n",
    "    sigma = hdulist_err[0].data\n",
    "    \n",
    "    return sigma\n",
    "\n",
    "\n",
    "def f_cloudy_interp(line, output_sphere_model, filename, ra0, dec0):\n",
    "    \n",
    "    arcsec = lambda cm: conv_arc(dist=dist, dist_proj=cm)\n",
    "    x_arc = abs(arcsec(output_sphere_model.cub_coord.x_vec))\n",
    "    f = flux_on_z(output_sphere_model, line)[:,31]\n",
    "    f_1 = interp1d(x_arc, f, kind = 'linear', bounds_error = False, fill_value = 0)\n",
    "    ff = f_1(r_observe(filename, ra0, dec0))\n",
    "    \n",
    "    return ff\n",
    "\n",
    "\n",
    "def snr(filename, filename_err, ra0, dec0):\n",
    "    sn = flux_observe(filename)/flux_err_observe(filename_err)\n",
    "    mask = (sn > 4)&(sn < 50)&(flux_observe(filename) > 8e-17)&(flux_err_observe(filename_err) > 8e-16)\n",
    "    \n",
    "    \n",
    "    for i in range(0, 64):\n",
    "        for j in range(0, 64):\n",
    "            if (mask[i][j] == True)&(r_observe(filename, ra0, dec0)[i][j] > 20):\n",
    "                sn[i][j] = sn[i][j]\n",
    "            else:\n",
    "                sn[i][j] = 0            \n",
    "    return sn\n",
    "\n",
    "\n",
    "def mask__snr_for_array(dimenshions, array, min_snr, max_snr, filename, filename_err, ra0, dec0):\n",
    "    sn = flux_observe(filename)/flux_err_observe(filename_err)\n",
    "    mask = (sn > min_snr)&(sn < max_snr)&(flux_observe(filename) > 8e-16)&(flux_err_observe(filename_err) > 8e-16)\n",
    "    \n",
    "    \n",
    "    for i in range(0, dimenshions):\n",
    "        for j in range(0, dimenshions):\n",
    "            if (mask[i][j] == True)&(r_observe(filename, ra0, dec0)[i][j] > 20):\n",
    "                array[i][j] = array[i][j]\n",
    "            else:\n",
    "                array[i][j] = 0            \n",
    "    return array\n",
    "\n",
    "\n",
    "def hihi_line_mask(output_sphere_model, line, filename, filename_err, ra0, dec0):\n",
    "    hdulist = fits.open(filename) \n",
    "    hdulist_err = fits.open(filename_err)\n",
    "    f_o = hdulist[0].data\n",
    "    wcs_hst = WCS(hdulist[0].header) \n",
    "    sigma = hdulist_err[0].data\n",
    "    X, Y = np.meshgrid(np.arange(0, f_o.shape[0]), np.arange(0, f_o.shape[1]))\n",
    "    ra, dec = wcs_hst.wcs_pix2world(X, Y, 0)\n",
    "    r = np.sqrt(((ra-ra0)*np.cos(dec*np.pi/180))**2 + (dec-dec0)**2)\n",
    "    arcsec = lambda cm: conv_arc(dist=dist, dist_proj=cm)\n",
    "    x_arc = abs(arcsec(output_sphere_model.cub_coord.x_vec))\n",
    "    f = flux_on_z(output_sphere_model, line)[31, :]\n",
    "    r_new = 3600 * r\n",
    "    f_1 = interp1d(x_arc, f, kind = 'linear', bounds_error = False, fill_value = 0)\n",
    "    ff = f_1(r_new)\n",
    "    hii = (ff - f_o)**2 / ((sigma**2)*(r_new))\n",
    "    result = mask__snr_for_array(64, hii, 4, 50, filename, filename_err, ra0, dec0)\n",
    "    \n",
    "    return result\n",
    "\n",
    "\n",
    "def hihi_sum_mask(output_sphere_model):\n",
    "    a_1 = hihi_line_mask(output_sphere_model, 'S__2_671644A',\n",
    "         '/home/mdemyanenko/CLOUDY/S235_mangal/S235_6717net0_ergs_dereddened.fits',\n",
    "         '/home/mdemyanenko/CLOUDY/S235_mangal/S235_err_6717_ergs_dereddened.fits',\n",
    "         85.24766667, +35.84625000)\n",
    "    a_2 = hihi_line_mask(output_sphere_model, 'S__2_673082A',\n",
    "        '/home/mdemyanenko/CLOUDY/S235_mangal/S235_6731net0_ergs_dereddened.fits',\n",
    "        '/home/mdemyanenko/CLOUDY/S235_mangal/S235_err_6731_ergs_dereddened.fits',\n",
    "        85.24766667, +35.84625000)\n",
    "    a_3 = hihi_line_mask(output_sphere_model, 'H__1_486133A', \n",
    "       '/home/mdemyanenko/CLOUDY/S235_mangal/S235_Hb_23toHa_ergs_dereddened.fits', \n",
    "       '/home/mdemyanenko/CLOUDY/S235_mangal/S235_err_Hb_23_ergs_dereddened.fits',\n",
    "        85.24766667, +35.84625000)\n",
    "    a_4 = hihi_line_mask(output_sphere_model, 'H__1_656281A', \n",
    "       '/home/mdemyanenko/CLOUDY/S235_mangal/S235_Hanet0_ergs_dereddened.fits', \n",
    "       '/home/mdemyanenko/CLOUDY/S235_mangal/S235_err_Ha_ergs_dereddened.fits',\n",
    "        85.24766667, +35.84625000)\n",
    "    a_5 = hihi_line_mask(output_sphere_model, 'N__2_658345A', \n",
    "       '/home/mdemyanenko/CLOUDY/S235_mangal/S235scan_6583_1x1_ergs_dereddened.fits', \n",
    "       '/home/mdemyanenko/CLOUDY/S235_mangal/S235_err_NII_1x1_ergs_dereddened.fits',\n",
    "        85.24766667, +35.84625000)\n",
    "\n",
    "    hihi_sum = a_1+a_2+a_3+a_4+a_5\n",
    "\n",
    "    return hihi_sum\n",
    "\n",
    "\n",
    "def sum_hihi_sum_mask(output_sphere_model):\n",
    "    chi_sum = np.nansum(hihi_sum_mask(output_sphere_model))\n",
    "    return chi_sum\n"
   ]
  },
  {
   "cell_type": "code",
   "execution_count": 17,
   "metadata": {},
   "outputs": [
    {
     "name": "stdout",
     "output_type": "stream",
     "text": [
      "[<Cloudy model from /home/mdemyanenko/CLOUDY/model_metallicity_1.5_0.3>, <Cloudy model from /home/mdemyanenko/CLOUDY/model_metallicity_1.5_0.4>, <Cloudy model from /home/mdemyanenko/CLOUDY/model_metallicity_1.65_0.3>, <Cloudy model from /home/mdemyanenko/CLOUDY/model_metallicity_1.65_0.4>]\n"
     ]
    }
   ],
   "source": [
    "#Msss=[]\n",
    "#for j in Mss:\n",
    "#    Msss.extend(j)\n",
    "#print(Msss)"
   ]
  },
  {
   "cell_type": "code",
   "execution_count": null,
   "metadata": {},
   "outputs": [],
   "source": []
  },
  {
   "cell_type": "code",
   "execution_count": 3,
   "metadata": {},
   "outputs": [
    {
     "name": "stdout",
     "output_type": "stream",
     "text": [
      "[[1.5 1.6 1.7 1.8 1.9 2.  2.1 2.2]\n",
      " [1.5 1.6 1.7 1.8 1.9 2.  2.1 2.2]\n",
      " [1.5 1.6 1.7 1.8 1.9 2.  2.1 2.2]\n",
      " [1.5 1.6 1.7 1.8 1.9 2.  2.1 2.2]\n",
      " [1.5 1.6 1.7 1.8 1.9 2.  2.1 2.2]\n",
      " [1.5 1.6 1.7 1.8 1.9 2.  2.1 2.2]\n",
      " [1.5 1.6 1.7 1.8 1.9 2.  2.1 2.2]\n",
      " [1.5 1.6 1.7 1.8 1.9 2.  2.1 2.2]] [[0.3 0.3 0.3 0.3 0.3 0.3 0.3 0.3]\n",
      " [0.4 0.4 0.4 0.4 0.4 0.4 0.4 0.4]\n",
      " [0.5 0.5 0.5 0.5 0.5 0.5 0.5 0.5]\n",
      " [0.6 0.6 0.6 0.6 0.6 0.6 0.6 0.6]\n",
      " [0.7 0.7 0.7 0.7 0.7 0.7 0.7 0.7]\n",
      " [0.8 0.8 0.8 0.8 0.8 0.8 0.8 0.8]\n",
      " [0.9 0.9 0.9 0.9 0.9 0.9 0.9 0.9]\n",
      " [1.  1.  1.  1.  1.  1.  1.  1. ]]\n"
     ]
    }
   ],
   "source": [
    "tab_mett = []\n",
    "for el in tab_met:\n",
    "    tab_mett.append(float(el))\n",
    "\n",
    "mett, den = np.meshgrid(tab_mett, tab_dens)\n",
    "print(mett, den)"
   ]
  },
  {
   "cell_type": "code",
   "execution_count": 4,
   "metadata": {},
   "outputs": [
    {
     "data": {
      "text/plain": [
       "array([[<Cloudy model from /home/mdemyanenko/CLOUDY/model_metallicity_1.5_0.3>,\n",
       "        <Cloudy model from /home/mdemyanenko/CLOUDY/model_metallicity_1.5_0.39999999999999997>,\n",
       "        <Cloudy model from /home/mdemyanenko/CLOUDY/model_metallicity_1.5_0.5>,\n",
       "        <Cloudy model from /home/mdemyanenko/CLOUDY/model_metallicity_1.5_0.6>,\n",
       "        <Cloudy model from /home/mdemyanenko/CLOUDY/model_metallicity_1.5_0.7>,\n",
       "        <Cloudy model from /home/mdemyanenko/CLOUDY/model_metallicity_1.5_0.7999999999999999>,\n",
       "        <Cloudy model from /home/mdemyanenko/CLOUDY/model_metallicity_1.5_0.8999999999999999>,\n",
       "        <Cloudy model from /home/mdemyanenko/CLOUDY/model_metallicity_1.5_1.0>],\n",
       "       [<Cloudy model from /home/mdemyanenko/CLOUDY/model_metallicity_1.6_0.3>,\n",
       "        <Cloudy model from /home/mdemyanenko/CLOUDY/model_metallicity_1.6_0.39999999999999997>,\n",
       "        <Cloudy model from /home/mdemyanenko/CLOUDY/model_metallicity_1.6_0.5>,\n",
       "        <Cloudy model from /home/mdemyanenko/CLOUDY/model_metallicity_1.6_0.6>,\n",
       "        <Cloudy model from /home/mdemyanenko/CLOUDY/model_metallicity_1.6_0.7>,\n",
       "        <Cloudy model from /home/mdemyanenko/CLOUDY/model_metallicity_1.6_0.7999999999999999>,\n",
       "        <Cloudy model from /home/mdemyanenko/CLOUDY/model_metallicity_1.6_0.8999999999999999>,\n",
       "        <Cloudy model from /home/mdemyanenko/CLOUDY/model_metallicity_1.6_1.0>],\n",
       "       [<Cloudy model from /home/mdemyanenko/CLOUDY/model_metallicity_1.7_0.3>,\n",
       "        <Cloudy model from /home/mdemyanenko/CLOUDY/model_metallicity_1.7_0.39999999999999997>,\n",
       "        <Cloudy model from /home/mdemyanenko/CLOUDY/model_metallicity_1.7_0.5>,\n",
       "        <Cloudy model from /home/mdemyanenko/CLOUDY/model_metallicity_1.7_0.6>,\n",
       "        <Cloudy model from /home/mdemyanenko/CLOUDY/model_metallicity_1.7_0.7>,\n",
       "        <Cloudy model from /home/mdemyanenko/CLOUDY/model_metallicity_1.7_0.7999999999999999>,\n",
       "        <Cloudy model from /home/mdemyanenko/CLOUDY/model_metallicity_1.7_0.8999999999999999>,\n",
       "        <Cloudy model from /home/mdemyanenko/CLOUDY/model_metallicity_1.7_1.0>],\n",
       "       [<Cloudy model from /home/mdemyanenko/CLOUDY/model_metallicity_1.8_0.3>,\n",
       "        <Cloudy model from /home/mdemyanenko/CLOUDY/model_metallicity_1.8_0.39999999999999997>,\n",
       "        <Cloudy model from /home/mdemyanenko/CLOUDY/model_metallicity_1.8_0.5>,\n",
       "        <Cloudy model from /home/mdemyanenko/CLOUDY/model_metallicity_1.8_0.6>,\n",
       "        <Cloudy model from /home/mdemyanenko/CLOUDY/model_metallicity_1.8_0.7>,\n",
       "        <Cloudy model from /home/mdemyanenko/CLOUDY/model_metallicity_1.8_0.7999999999999999>,\n",
       "        <Cloudy model from /home/mdemyanenko/CLOUDY/model_metallicity_1.8_0.8999999999999999>,\n",
       "        <Cloudy model from /home/mdemyanenko/CLOUDY/model_metallicity_1.8_1.0>],\n",
       "       [<Cloudy model from /home/mdemyanenko/CLOUDY/model_metallicity_1.9000000000000001_0.3>,\n",
       "        <Cloudy model from /home/mdemyanenko/CLOUDY/model_metallicity_1.9000000000000001_0.39999999999999997>,\n",
       "        <Cloudy model from /home/mdemyanenko/CLOUDY/model_metallicity_1.9000000000000001_0.5>,\n",
       "        <Cloudy model from /home/mdemyanenko/CLOUDY/model_metallicity_1.9000000000000001_0.6>,\n",
       "        <Cloudy model from /home/mdemyanenko/CLOUDY/model_metallicity_1.9000000000000001_0.7>,\n",
       "        <Cloudy model from /home/mdemyanenko/CLOUDY/model_metallicity_1.9000000000000001_0.7999999999999999>,\n",
       "        <Cloudy model from /home/mdemyanenko/CLOUDY/model_metallicity_1.9000000000000001_0.8999999999999999>,\n",
       "        <Cloudy model from /home/mdemyanenko/CLOUDY/model_metallicity_1.9000000000000001_1.0>],\n",
       "       [<Cloudy model from /home/mdemyanenko/CLOUDY/model_metallicity_2.0_0.3>,\n",
       "        <Cloudy model from /home/mdemyanenko/CLOUDY/model_metallicity_2.0_0.39999999999999997>,\n",
       "        <Cloudy model from /home/mdemyanenko/CLOUDY/model_metallicity_2.0_0.5>,\n",
       "        <Cloudy model from /home/mdemyanenko/CLOUDY/model_metallicity_2.0_0.6>,\n",
       "        <Cloudy model from /home/mdemyanenko/CLOUDY/model_metallicity_2.0_0.7>,\n",
       "        <Cloudy model from /home/mdemyanenko/CLOUDY/model_metallicity_2.0_0.7999999999999999>,\n",
       "        <Cloudy model from /home/mdemyanenko/CLOUDY/model_metallicity_2.0_0.8999999999999999>,\n",
       "        <Cloudy model from /home/mdemyanenko/CLOUDY/model_metallicity_2.0_1.0>],\n",
       "       [<Cloudy model from /home/mdemyanenko/CLOUDY/model_metallicity_2.1_0.3>,\n",
       "        <Cloudy model from /home/mdemyanenko/CLOUDY/model_metallicity_2.1_0.39999999999999997>,\n",
       "        <Cloudy model from /home/mdemyanenko/CLOUDY/model_metallicity_2.1_0.5>,\n",
       "        <Cloudy model from /home/mdemyanenko/CLOUDY/model_metallicity_2.1_0.6>,\n",
       "        <Cloudy model from /home/mdemyanenko/CLOUDY/model_metallicity_2.1_0.7>,\n",
       "        <Cloudy model from /home/mdemyanenko/CLOUDY/model_metallicity_2.1_0.7999999999999999>,\n",
       "        <Cloudy model from /home/mdemyanenko/CLOUDY/model_metallicity_2.1_0.8999999999999999>,\n",
       "        <Cloudy model from /home/mdemyanenko/CLOUDY/model_metallicity_2.1_1.0>],\n",
       "       [<Cloudy model from /home/mdemyanenko/CLOUDY/model_metallicity_2.2_0.3>,\n",
       "        <Cloudy model from /home/mdemyanenko/CLOUDY/model_metallicity_2.2_0.39999999999999997>,\n",
       "        <Cloudy model from /home/mdemyanenko/CLOUDY/model_metallicity_2.2_0.5>,\n",
       "        <Cloudy model from /home/mdemyanenko/CLOUDY/model_metallicity_2.2_0.6>,\n",
       "        <Cloudy model from /home/mdemyanenko/CLOUDY/model_metallicity_2.2_0.7>,\n",
       "        <Cloudy model from /home/mdemyanenko/CLOUDY/model_metallicity_2.2_0.7999999999999999>,\n",
       "        <Cloudy model from /home/mdemyanenko/CLOUDY/model_metallicity_2.2_0.8999999999999999>,\n",
       "        <Cloudy model from /home/mdemyanenko/CLOUDY/model_metallicity_2.2_1.0>]],\n",
       "      dtype=object)"
      ]
     },
     "execution_count": 4,
     "metadata": {},
     "output_type": "execute_result"
    }
   ],
   "source": [
    "np.reshape(Mss, (8,8)) # (2,2) - это размерность tab_dens размерность tab_met"
   ]
  },
  {
   "cell_type": "code",
   "execution_count": 5,
   "metadata": {},
   "outputs": [
    {
     "name": "stdout",
     "output_type": "stream",
     "text": [
      "[<Cloudy model from /home/mdemyanenko/CLOUDY/model_metallicity_1.5_0.3>, <Cloudy model from /home/mdemyanenko/CLOUDY/model_metallicity_1.5_0.39999999999999997>, <Cloudy model from /home/mdemyanenko/CLOUDY/model_metallicity_1.5_0.5>, <Cloudy model from /home/mdemyanenko/CLOUDY/model_metallicity_1.5_0.6>, <Cloudy model from /home/mdemyanenko/CLOUDY/model_metallicity_1.5_0.7>, <Cloudy model from /home/mdemyanenko/CLOUDY/model_metallicity_1.5_0.7999999999999999>, <Cloudy model from /home/mdemyanenko/CLOUDY/model_metallicity_1.5_0.8999999999999999>, <Cloudy model from /home/mdemyanenko/CLOUDY/model_metallicity_1.5_1.0>, <Cloudy model from /home/mdemyanenko/CLOUDY/model_metallicity_1.6_0.3>, <Cloudy model from /home/mdemyanenko/CLOUDY/model_metallicity_1.6_0.39999999999999997>, <Cloudy model from /home/mdemyanenko/CLOUDY/model_metallicity_1.6_0.5>, <Cloudy model from /home/mdemyanenko/CLOUDY/model_metallicity_1.6_0.6>, <Cloudy model from /home/mdemyanenko/CLOUDY/model_metallicity_1.6_0.7>, <Cloudy model from /home/mdemyanenko/CLOUDY/model_metallicity_1.6_0.7999999999999999>, <Cloudy model from /home/mdemyanenko/CLOUDY/model_metallicity_1.6_0.8999999999999999>, <Cloudy model from /home/mdemyanenko/CLOUDY/model_metallicity_1.6_1.0>, <Cloudy model from /home/mdemyanenko/CLOUDY/model_metallicity_1.7_0.3>, <Cloudy model from /home/mdemyanenko/CLOUDY/model_metallicity_1.7_0.39999999999999997>, <Cloudy model from /home/mdemyanenko/CLOUDY/model_metallicity_1.7_0.5>, <Cloudy model from /home/mdemyanenko/CLOUDY/model_metallicity_1.7_0.6>, <Cloudy model from /home/mdemyanenko/CLOUDY/model_metallicity_1.7_0.7>, <Cloudy model from /home/mdemyanenko/CLOUDY/model_metallicity_1.7_0.7999999999999999>, <Cloudy model from /home/mdemyanenko/CLOUDY/model_metallicity_1.7_0.8999999999999999>, <Cloudy model from /home/mdemyanenko/CLOUDY/model_metallicity_1.7_1.0>, <Cloudy model from /home/mdemyanenko/CLOUDY/model_metallicity_1.8_0.3>, <Cloudy model from /home/mdemyanenko/CLOUDY/model_metallicity_1.8_0.39999999999999997>, <Cloudy model from /home/mdemyanenko/CLOUDY/model_metallicity_1.8_0.5>, <Cloudy model from /home/mdemyanenko/CLOUDY/model_metallicity_1.8_0.6>, <Cloudy model from /home/mdemyanenko/CLOUDY/model_metallicity_1.8_0.7>, <Cloudy model from /home/mdemyanenko/CLOUDY/model_metallicity_1.8_0.7999999999999999>, <Cloudy model from /home/mdemyanenko/CLOUDY/model_metallicity_1.8_0.8999999999999999>, <Cloudy model from /home/mdemyanenko/CLOUDY/model_metallicity_1.8_1.0>, <Cloudy model from /home/mdemyanenko/CLOUDY/model_metallicity_1.9000000000000001_0.3>, <Cloudy model from /home/mdemyanenko/CLOUDY/model_metallicity_1.9000000000000001_0.39999999999999997>, <Cloudy model from /home/mdemyanenko/CLOUDY/model_metallicity_1.9000000000000001_0.5>, <Cloudy model from /home/mdemyanenko/CLOUDY/model_metallicity_1.9000000000000001_0.6>, <Cloudy model from /home/mdemyanenko/CLOUDY/model_metallicity_1.9000000000000001_0.7>, <Cloudy model from /home/mdemyanenko/CLOUDY/model_metallicity_1.9000000000000001_0.7999999999999999>, <Cloudy model from /home/mdemyanenko/CLOUDY/model_metallicity_1.9000000000000001_0.8999999999999999>, <Cloudy model from /home/mdemyanenko/CLOUDY/model_metallicity_1.9000000000000001_1.0>, <Cloudy model from /home/mdemyanenko/CLOUDY/model_metallicity_2.0_0.3>, <Cloudy model from /home/mdemyanenko/CLOUDY/model_metallicity_2.0_0.39999999999999997>, <Cloudy model from /home/mdemyanenko/CLOUDY/model_metallicity_2.0_0.5>, <Cloudy model from /home/mdemyanenko/CLOUDY/model_metallicity_2.0_0.6>, <Cloudy model from /home/mdemyanenko/CLOUDY/model_metallicity_2.0_0.7>, <Cloudy model from /home/mdemyanenko/CLOUDY/model_metallicity_2.0_0.7999999999999999>, <Cloudy model from /home/mdemyanenko/CLOUDY/model_metallicity_2.0_0.8999999999999999>, <Cloudy model from /home/mdemyanenko/CLOUDY/model_metallicity_2.0_1.0>, <Cloudy model from /home/mdemyanenko/CLOUDY/model_metallicity_2.1_0.3>, <Cloudy model from /home/mdemyanenko/CLOUDY/model_metallicity_2.1_0.39999999999999997>, <Cloudy model from /home/mdemyanenko/CLOUDY/model_metallicity_2.1_0.5>, <Cloudy model from /home/mdemyanenko/CLOUDY/model_metallicity_2.1_0.6>, <Cloudy model from /home/mdemyanenko/CLOUDY/model_metallicity_2.1_0.7>, <Cloudy model from /home/mdemyanenko/CLOUDY/model_metallicity_2.1_0.7999999999999999>, <Cloudy model from /home/mdemyanenko/CLOUDY/model_metallicity_2.1_0.8999999999999999>, <Cloudy model from /home/mdemyanenko/CLOUDY/model_metallicity_2.1_1.0>, <Cloudy model from /home/mdemyanenko/CLOUDY/model_metallicity_2.2_0.3>, <Cloudy model from /home/mdemyanenko/CLOUDY/model_metallicity_2.2_0.39999999999999997>, <Cloudy model from /home/mdemyanenko/CLOUDY/model_metallicity_2.2_0.5>, <Cloudy model from /home/mdemyanenko/CLOUDY/model_metallicity_2.2_0.6>, <Cloudy model from /home/mdemyanenko/CLOUDY/model_metallicity_2.2_0.7>, <Cloudy model from /home/mdemyanenko/CLOUDY/model_metallicity_2.2_0.7999999999999999>, <Cloudy model from /home/mdemyanenko/CLOUDY/model_metallicity_2.2_0.8999999999999999>, <Cloudy model from /home/mdemyanenko/CLOUDY/model_metallicity_2.2_1.0>]\n"
     ]
    }
   ],
   "source": [
    "print(Mss)"
   ]
  },
  {
   "cell_type": "code",
   "execution_count": 6,
   "metadata": {
    "scrolled": false
   },
   "outputs": [
    {
     "name": "stderr",
     "output_type": "stream",
     "text": [
      "/usr/lib64/python3.5/site-packages/ipykernel_launcher.py:67: RuntimeWarning: invalid value encountered in greater\n",
      "/usr/lib64/python3.5/site-packages/ipykernel_launcher.py:67: RuntimeWarning: invalid value encountered in less\n",
      "/usr/lib64/python3.5/site-packages/matplotlib/font_manager.py:1328: UserWarning: findfont: Font family ['serif'] not found. Falling back to DejaVu Sans\n",
      "  (prop.get_family(), self.defaultFamily[fontext]))\n",
      "/usr/lib64/python3.5/site-packages/matplotlib/font_manager.py:1328: UserWarning: findfont: Font family ['serif'] not found. Falling back to DejaVu Sans\n",
      "  (prop.get_family(), self.defaultFamily[fontext]))\n",
      "/usr/lib64/python3.5/site-packages/matplotlib/font_manager.py:1328: UserWarning: findfont: Font family ['serif'] not found. Falling back to DejaVu Sans\n",
      "  (prop.get_family(), self.defaultFamily[fontext]))\n",
      "/usr/lib64/python3.5/site-packages/matplotlib/font_manager.py:1328: UserWarning: findfont: Font family ['serif'] not found. Falling back to DejaVu Sans\n",
      "  (prop.get_family(), self.defaultFamily[fontext]))\n",
      "/usr/lib64/python3.5/site-packages/matplotlib/font_manager.py:1328: UserWarning: findfont: Font family ['serif'] not found. Falling back to DejaVu Sans\n",
      "  (prop.get_family(), self.defaultFamily[fontext]))\n",
      "/usr/lib64/python3.5/site-packages/matplotlib/font_manager.py:1328: UserWarning: findfont: Font family ['serif'] not found. Falling back to DejaVu Sans\n",
      "  (prop.get_family(), self.defaultFamily[fontext]))\n",
      "/usr/lib64/python3.5/site-packages/matplotlib/font_manager.py:1328: UserWarning: findfont: Font family ['serif'] not found. Falling back to DejaVu Sans\n",
      "  (prop.get_family(), self.defaultFamily[fontext]))\n",
      "/usr/lib64/python3.5/site-packages/matplotlib/font_manager.py:1328: UserWarning: findfont: Font family ['serif'] not found. Falling back to DejaVu Sans\n",
      "  (prop.get_family(), self.defaultFamily[fontext]))\n",
      "/usr/lib64/python3.5/site-packages/matplotlib/font_manager.py:1328: UserWarning: findfont: Font family ['serif'] not found. Falling back to DejaVu Sans\n",
      "  (prop.get_family(), self.defaultFamily[fontext]))\n",
      "/usr/lib64/python3.5/site-packages/matplotlib/font_manager.py:1328: UserWarning: findfont: Font family ['serif'] not found. Falling back to DejaVu Sans\n",
      "  (prop.get_family(), self.defaultFamily[fontext]))\n",
      "/usr/lib64/python3.5/site-packages/matplotlib/font_manager.py:1328: UserWarning: findfont: Font family ['serif'] not found. Falling back to DejaVu Sans\n",
      "  (prop.get_family(), self.defaultFamily[fontext]))\n",
      "/usr/lib64/python3.5/site-packages/matplotlib/font_manager.py:1328: UserWarning: findfont: Font family ['serif'] not found. Falling back to DejaVu Sans\n",
      "  (prop.get_family(), self.defaultFamily[fontext]))\n",
      "/usr/lib64/python3.5/site-packages/matplotlib/font_manager.py:1328: UserWarning: findfont: Font family ['serif'] not found. Falling back to DejaVu Sans\n",
      "  (prop.get_family(), self.defaultFamily[fontext]))\n"
     ]
    },
    {
     "data": {
      "image/png": "[encoded data removed]",
      "text/plain": [
       "<Figure size 720x720 with 2 Axes>"
      ]
     },
     "metadata": {},
     "output_type": "display_data"
    }
   ],
   "source": [
    "cube_size = 64\n",
    "\n",
    "\n",
    "g = [sum_hihi_sum_mask(pc.C3D(M, dims=cube_size, center=True, n_dim=1)) for M in Mss]\n",
    "plt.figure(figsize=(10,10))\n",
    "#den, mett = np.meshgrid(tab_dens, tab_met)\n",
    "plt.pcolor(den, mett, np.reshape(g, (8,8)))\n",
    "plt.xlabel(r'$n_{H}$', size = 25)\n",
    "plt.ylabel(r'$Z/Z_{odot}$', size = 25)\n",
    "cb = plt.colorbar()\n",
    "cb.set_label(r'$\\chi^{2}$', size = 25)\n",
    "plt.title('Sh2-235', size =25);"
   ]
  },
  {
   "cell_type": "code",
   "execution_count": 20,
   "metadata": {},
   "outputs": [
    {
     "name": "stdout",
     "output_type": "stream",
     "text": [
      "17\n"
     ]
    }
   ],
   "source": [
    "print(np.argmin(g))"
   ]
  },
  {
   "cell_type": "code",
   "execution_count": 13,
   "metadata": {},
   "outputs": [
    {
     "name": "stdout",
     "output_type": "stream",
     "text": [
      "[5960.323682919274, 5859.934931542637, 5793.270685387279, 5751.291441925323, 5727.592989925992, 5717.015510425836, 5714.96919226574, 9088.552691748635, 5518.742457152466, 5441.505070089151, 5402.262178528646, 5390.622531101368, 5400.257934988242, 5426.93938671123, 5465.670410161712, 5511.518980805254, 5317.63615964852, 5296.898074254414, 5313.223231716613, 5356.595057831017, 5422.598657135249, 5507.4401711655555, 5607.543811965749, 5717.295756864236, 5537.567435944979, 5599.387595742122, 5690.945345123709, 5803.095913389035, 5936.7469630655705, 6086.83415580837, 6252.601951692856, 6429.721413506131, 6200.812028966871, 6323.595732517813, 6458.279073496844, 6606.289081858451, 6768.803699326563, 6941.969788996247, 7130.1700173945155, 7328.638101602641, 6983.658863456705, 7138.632261874358, 7302.393553423478, 7473.010321268137, 7642.100056217832, 7842.9320799305615, 8048.591006068878, 8267.485079140322, 7854.271550225999, 8075.892061515545, 8315.806672861905, 8547.946852863599, 8802.899428257118, 9053.722010872452, 9320.438113070917, 9611.768101549998, 9429.305848868064, 9897.721372099208, 10347.231470277691, 10758.565129906297, 11156.910566698964, 11553.060645260244, 11942.332828196224, 12322.01961934069] [1.5 1.6 1.7 1.8 1.9 2.  2.1 2.2] [0.3, 0.39999999999999997, 0.5, 0.6, 0.7, 0.7999999999999999, 0.8999999999999999, 1.0]\n"
     ]
    }
   ],
   "source": [
    "print(g, tab_dens, tab_mett)"
   ]
  },
  {
   "cell_type": "code",
   "execution_count": 18,
   "metadata": {},
   "outputs": [
    {
     "data": {
      "text/plain": [
       "<Cloudy model from /home/mdemyanenko/CLOUDY/model_metallicity_1.7_0.39999999999999997>"
      ]
     },
     "execution_count": 18,
     "metadata": {},
     "output_type": "execute_result"
    }
   ],
   "source": [
    "Mss[17]"
   ]
  },
  {
   "cell_type": "code",
   "execution_count": 22,
   "metadata": {},
   "outputs": [
    {
     "data": {
      "text/plain": [
       "5296.898074254414"
      ]
     },
     "execution_count": 22,
     "metadata": {},
     "output_type": "execute_result"
    }
   ],
   "source": [
    "g[17]"
   ]
  },
  {
   "cell_type": "code",
   "execution_count": 1,
   "metadata": {},
   "outputs": [
    {
     "ename": "NameError",
     "evalue": "name 'Mss' is not defined",
     "output_type": "error",
     "traceback": [
      "\u001b[0;31m---------------------------------------------------------------------------\u001b[0m",
      "\u001b[0;31mNameError\u001b[0m                                 Traceback (most recent call last)",
      "\u001b[0;32m<ipython-input-1-590dae6e161c>\u001b[0m in \u001b[0;36m<module>\u001b[0;34m()\u001b[0m\n\u001b[0;32m----> 1\u001b[0;31m \u001b[0mtype\u001b[0m\u001b[0;34m(\u001b[0m\u001b[0mMss\u001b[0m\u001b[0;34m[\u001b[0m\u001b[0;36m17\u001b[0m\u001b[0;34m]\u001b[0m\u001b[0;34m)\u001b[0m\u001b[0;34m\u001b[0m\u001b[0m\n\u001b[0m",
      "\u001b[0;31mNameError\u001b[0m: name 'Mss' is not defined"
     ]
    }
   ],
   "source": [
    "type(Mss[17])"
   ]
  },
  {
   "cell_type": "code",
   "execution_count": null,
   "metadata": {},
   "outputs": [],
   "source": []
  }
 ],
 "metadata": {
  "kernelspec": {
   "display_name": "Python 3",
   "language": "python3",
   "name": "python3"
  },
  "language_info": {
   "codemirror_mode": {
    "name": "ipython",
    "version": 3
   },
   "file_extension": ".py",
   "mimetype": "text/x-python",
   "name": "python",
   "nbconvert_exporter": "python",
   "pygments_lexer": "ipython3",
   "version": "3.5.5"
  }
 },
 "nbformat": 4,
 "nbformat_minor": 2
}
